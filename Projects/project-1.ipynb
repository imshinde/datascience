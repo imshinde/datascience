{
 "cells": [
  {
   "cell_type": "markdown",
   "id": "f49a3644",
   "metadata": {},
   "source": [
    "#### Name - Mayuri Shinde"
   ]
  },
  {
   "cell_type": "markdown",
   "id": "1b5e8d60",
   "metadata": {},
   "source": [
    "### GUI Project - 1"
   ]
  },
  {
   "cell_type": "code",
   "execution_count": 6,
   "id": "bc48dba1",
   "metadata": {},
   "outputs": [],
   "source": [
    "import tkinter as tk\n",
    "from tkinter import *\n",
    "import re\n",
    "\n",
    "root = tk.Tk()\n",
    "root.geometry(\"600x400\")\n",
    "\n",
    "lbl1 = Label(root, text=\"ENTER YOUR INFORMATION HERE\")\n",
    "lbl1.place(x=50,y=10)\n",
    "\n",
    "name_lbl = Label(root, text=\"Enter Name\")\n",
    "usr_name = StringVar()\n",
    "name_tb = Entry(root, textvariable=usr_name, width=25)\n",
    "\n",
    "mob_num = StringVar()\n",
    "number_lbl = Label(root, text=\"Enter Number\")\n",
    "number_tb = Entry(root, textvariable=mob_num, width=25)\n",
    "\n",
    "name_lbl.place(x=30,y=50)\n",
    "name_tb.place(x=150,y=50)\n",
    "number_lbl.place(x=30,y=90)\n",
    "number_tb.place(x=150,y=90)\n",
    "\n",
    "def insert_info():\n",
    "    if usr_name.get() !=\"\" and mob_num.get() !=\"\":\n",
    "        mobile = re.compile(r\"\\d{10}\")\n",
    "        if re.match(mobile,mob_num.get()):\n",
    "            f1 = open('my_data.txt','a+')\n",
    "            f1.seek(0)\n",
    "            if mob_num.get() not in f1.read():\n",
    "                f1.write(\"\\n\"+usr_name.get()+\",\"+mob_num.get())\n",
    "                f1.close()\n",
    "\n",
    "def check_info():\n",
    "    info_tb.delete(\"1.0\",\"end\")\n",
    "    f2 = open('my_data.txt','r')\n",
    "    for data in f2:\n",
    "        info_tb.insert(END,data)\n",
    "    f2.close()\n",
    "\n",
    "def clear():\n",
    "    name_tb.delete(0,END)\n",
    "    number_tb.delete(0,END)\n",
    "    info_tb.delete('1.0',END)\n",
    "    \n",
    "insert_btn = Button(root, text=\"Insert\", width=10, command=insert_info)\n",
    "info_lbl = Label(root, text=\"View Your Information\")\n",
    "info_tb = Text(root, height=8, width=50)\n",
    "check_tn = Button(root, text=\"Check\", width=10, command=check_info)\n",
    "clr_btn = Button(root, text=\"Clear\", width=10, command=clear)\n",
    "\n",
    "insert_btn.place(x=120,y=130)\n",
    "info_lbl.place(x=80,y=170)\n",
    "info_tb.place(x=30, y=200)\n",
    "check_tn.place(x=300,y=340)\n",
    "clr_btn.place(x=380,y=340)\n",
    "\n",
    "root.mainloop()"
   ]
  },
  {
   "cell_type": "code",
   "execution_count": null,
   "id": "0d6ede8c",
   "metadata": {},
   "outputs": [],
   "source": []
  }
 ],
 "metadata": {
  "kernelspec": {
   "display_name": "Python 3",
   "language": "python",
   "name": "python3"
  },
  "language_info": {
   "codemirror_mode": {
    "name": "ipython",
    "version": 3
   },
   "file_extension": ".py",
   "mimetype": "text/x-python",
   "name": "python",
   "nbconvert_exporter": "python",
   "pygments_lexer": "ipython3",
   "version": "3.8.8"
  }
 },
 "nbformat": 4,
 "nbformat_minor": 5
}
